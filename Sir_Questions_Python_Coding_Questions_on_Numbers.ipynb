{
  "nbformat": 4,
  "nbformat_minor": 0,
  "metadata": {
    "colab": {
      "name": "Sir Questions : Python Coding Questions on Numbers",
      "provenance": []
    },
    "kernelspec": {
      "name": "python3",
      "display_name": "Python 3"
    },
    "language_info": {
      "name": "python"
    }
  },
  "cells": [
    {
      "cell_type": "code",
      "execution_count": null,
      "metadata": {
        "colab": {
          "base_uri": "https://localhost:8080/"
        },
        "id": "rqzj3lVjGSnu",
        "outputId": "ed515939-a03c-44a4-bed9-d805cd7cfbdb"
      },
      "outputs": [
        {
          "output_type": "stream",
          "name": "stdout",
          "text": [
            "654321\n"
          ]
        }
      ],
      "source": [
        "#Q1) Write a program to reverse an integer in Python.\n",
        "num = 123456\n",
        "var1 =str(num)\n",
        "print(var1[-1: :-1])"
      ]
    },
    {
      "cell_type": "code",
      "source": [
        "'''Q2) Write a program in Python to check whether an integer is Armstrong number\n",
        "or not.'''\n",
        "\n",
        "a = []\n",
        "b = input('enter number')\n",
        "for i in b:\n",
        "  a.append(i)\n",
        "print(a)\n",
        "\n",
        "c = []\n",
        "for j in range(len(a)):\n",
        "  c.append(int(a[j]))\n",
        "print(c)\n",
        "\n",
        "d = []\n",
        "for k in range(len(c)):\n",
        "  d.append(c[k]**3)\n",
        "print(d)\n",
        "\n",
        "'''e = []\n",
        "for l in range(len(d)):\n",
        " e.append([l]+d)\n",
        "print(e)'''\n",
        "\n",
        "final=sum(d)\n",
        "print(str(final))\n",
        "\n",
        "c=int(b)\n",
        "\n",
        "if (final==c):\n",
        "  print(b, \" is an Armstrong number\")\n",
        "elif (final!=c):\n",
        "  print(b, \"is not an Armstrong number\")\n",
        "else:\n",
        "  print(b, \"is wrong input\")\n"
      ],
      "metadata": {
        "colab": {
          "base_uri": "https://localhost:8080/"
        },
        "id": "GcKTiqYHKJuT",
        "outputId": "ceac9e78-0dc8-4199-f6ef-61d8188675a6"
      },
      "execution_count": null,
      "outputs": [
        {
          "output_type": "stream",
          "name": "stdout",
          "text": [
            "enter number153\n",
            "['1', '5', '3']\n",
            "[1, 5, 3]\n",
            "[1, 125, 27]\n",
            "153\n",
            "153  is an Armstrong number\n"
          ]
        }
      ]
    },
    {
      "cell_type": "code",
      "source": [
        "#Q3) Write a program in Python to check given number is prime or not.\n",
        "\n",
        "number = int(input(\"Enter any number: \"))\n",
        "\n",
        "# prime number is always greater than 1\n",
        "if number > 1:\n",
        "    for i in range(3, number):\n",
        "        if (number % i) == 0:\n",
        "            print(number, \"is not a prime number\")\n",
        "            break\n",
        "    else:\n",
        "        print(number, \"is a prime number\")\n",
        "\n",
        "# if the entered number is less than or equal to 1\n",
        "# then it is not prime number\n",
        "else:\n",
        "    print(number, \"is not a prime number\")"
      ],
      "metadata": {
        "colab": {
          "base_uri": "https://localhost:8080/"
        },
        "id": "vg8iegaXjPDO",
        "outputId": "78603460-68df-4a47-83a5-dfaebca69279"
      },
      "execution_count": null,
      "outputs": [
        {
          "output_type": "stream",
          "name": "stdout",
          "text": [
            "Enter any number: 2\n",
            "2 is a prime number\n"
          ]
        }
      ]
    },
    {
      "cell_type": "code",
      "source": [
        "#Q4) Write a program in Python to print the Fibonacci series using iterative method.\n",
        "\n",
        "a = 0\n",
        "b = 1\n",
        "n=int(input(\"Enter the number of terms in the sequence: \"))\n",
        "print(a,b,end=\" \")\n",
        "while(n-2):\n",
        "    c=a+b\n",
        "    a,b = b,c\n",
        "    print(c,end=\" \")\n",
        "    n=n-1\n"
      ],
      "metadata": {
        "id": "195kf6xPlgXL",
        "colab": {
          "base_uri": "https://localhost:8080/"
        },
        "outputId": "68569032-c9cd-4a68-ac85-4e7e77b11c0c"
      },
      "execution_count": null,
      "outputs": [
        {
          "output_type": "stream",
          "name": "stdout",
          "text": [
            "Enter the number of terms in the sequence: 6\n",
            "0 1 1 2 3 5 "
          ]
        }
      ]
    },
    {
      "cell_type": "code",
      "source": [
        "'''Q5) Write a program in Python to check whether a number is palindrome or not\n",
        "using iterative method.'''\n",
        "\n",
        "string=input((\"Enter a string:\"))\n",
        "if(string==string[::-1]):\n",
        "      print(\"The string is a palindrome\")\n",
        "else:\n",
        "      print(\"Not a palindrome\")\n"
      ],
      "metadata": {
        "id": "1P4DrvBVy4Cn",
        "colab": {
          "base_uri": "https://localhost:8080/"
        },
        "outputId": "083405f0-0753-46ef-c15b-4584e092f370"
      },
      "execution_count": null,
      "outputs": [
        {
          "output_type": "stream",
          "name": "stdout",
          "text": [
            "Enter a string:madam\n",
            "The string is a palindrome\n"
          ]
        }
      ]
    },
    {
      "cell_type": "code",
      "source": [
        "#Q6) Write a program in Python to find greatest among three integers.\n",
        "\n",
        "num1 = float(input(\"Enter first number: \"))\n",
        "num2 = float(input(\"Enter second number: \"))\n",
        "num3 = float(input(\"Enter third number: \"))\n",
        " \n",
        "if (num1 > num2) and (num1 > num3):\n",
        "   largest = num1\n",
        "elif (num2 > num1) and (num2 > num3):\n",
        "   largest = num2\n",
        "else:\n",
        "   largest = num3\n",
        " \n",
        "print(\"The largest number is\",largest)\n"
      ],
      "metadata": {
        "id": "TsLXOaAvy-qP",
        "colab": {
          "base_uri": "https://localhost:8080/"
        },
        "outputId": "1c5e913e-d212-450d-af8d-99779d2ca946"
      },
      "execution_count": null,
      "outputs": [
        {
          "output_type": "stream",
          "name": "stdout",
          "text": [
            "Enter first number: 12\n",
            "Enter second number: 16\n",
            "Enter third number: 20\n",
            "The largest number is 20.0\n"
          ]
        }
      ]
    },
    {
      "cell_type": "code",
      "source": [
        "#Q7) Write a program in Python to check if a number is binary?\n",
        "\n",
        "num = int(input(\"please give a number : \"))\n",
        "while(num>0):\n",
        "    j=num%10\n",
        "    if j!=0 and j!=1:\n",
        "        print(\"num is not binary\")\n",
        "        break\n",
        "    num=num//10\n",
        "    if num==0:\n",
        "        print(\"num is binary\") \n",
        "\n"
      ],
      "metadata": {
        "id": "6lMWwsoczKP-",
        "colab": {
          "base_uri": "https://localhost:8080/"
        },
        "outputId": "98d070c1-1d89-4e02-c405-23d52e3b9531"
      },
      "execution_count": null,
      "outputs": [
        {
          "output_type": "stream",
          "name": "stdout",
          "text": [
            "please give a number : 01001001\n",
            "num is binary\n"
          ]
        }
      ]
    },
    {
      "cell_type": "code",
      "source": [
        "#Q8) Write a program in Python to find sum of digits.\n",
        "\n",
        "n=int(input(\"Enter number\"))\n",
        "\n",
        "sum=0\n",
        "\n",
        "for digit in str(n):\n",
        "    sum=sum+int(digit)\n",
        "\n",
        "print(\"Sum of digits\",sum)\n"
      ],
      "metadata": {
        "id": "jMeo6rB_zPiu",
        "colab": {
          "base_uri": "https://localhost:8080/"
        },
        "outputId": "b466fd62-cf50-497c-cbe2-a07bf999eac3"
      },
      "execution_count": null,
      "outputs": [
        {
          "output_type": "stream",
          "name": "stdout",
          "text": [
            "Enter number27586\n",
            "Sum of digits 28\n"
          ]
        }
      ]
    },
    {
      "cell_type": "code",
      "source": [
        "'''Q9) Write a program in Python to swap two numbers without using third variable?'''\n",
        "\n",
        "x = 6\n",
        "y = 4\n",
        " \n",
        "print (\"Before swapping: \")\n",
        "print(\"Value of x : \", x, \" and y : \", y)\n",
        " \n",
        "# code to swap 'x' and 'y'\n",
        "x, y = y, x\n",
        " \n",
        "print (\"After swapping: \")\n",
        "print(\"Value of x : \", x, \" and y : \", y)\n"
      ],
      "metadata": {
        "id": "hOKfwG5wzxNX",
        "colab": {
          "base_uri": "https://localhost:8080/"
        },
        "outputId": "3fa52674-0e89-4928-d42b-356a0baa3228"
      },
      "execution_count": null,
      "outputs": [
        {
          "output_type": "stream",
          "name": "stdout",
          "text": [
            "Before swapping: \n",
            "Value of x :  6  and y :  4\n",
            "After swapping: \n",
            "Value of x :  4  and y :  6\n"
          ]
        }
      ]
    },
    {
      "cell_type": "code",
      "source": [
        "#Q10) Write a program in Python to swap two numbers using third variable?\n",
        "\n",
        "a = int(input(\"please give first number a: \"))\n",
        "b = int(input(\"please give second number b: \"))\n",
        "tempvar=a\n",
        "a=b\n",
        "b=tempvar\n",
        "print(\"After swapping\")\n",
        "print(\"value of a is : \", a);\n",
        "print(\"value of b is : \", b);\n",
        "\n"
      ],
      "metadata": {
        "id": "kL-fasvmz2WP",
        "colab": {
          "base_uri": "https://localhost:8080/"
        },
        "outputId": "01bc077b-3f95-4bae-d704-c15034e5de94"
      },
      "execution_count": null,
      "outputs": [
        {
          "output_type": "stream",
          "name": "stdout",
          "text": [
            "please give first number a: 45\n",
            "please give second number b: 60\n",
            "After swapping\n",
            "value of a is :  60\n",
            "value of b is :  45\n"
          ]
        }
      ]
    },
    {
      "cell_type": "code",
      "source": [
        "#Q11) Python Program to find the Average of numbers.\n",
        "\n",
        "num = int(input('How many numbers: '))\n",
        "total_sum = 0\n",
        "for n in range(num):\n",
        "    numbers = float(input('Enter number : '))\n",
        "    total_sum += numbers\n",
        "avg = total_sum/num\n",
        "print('Average of ', num, ' numbers is :', avg)\n",
        "\n"
      ],
      "metadata": {
        "id": "czLvHLr_z9aW",
        "colab": {
          "base_uri": "https://localhost:8080/"
        },
        "outputId": "6e79cfe4-c955-4a0b-8da6-b2acc96d3b98"
      },
      "execution_count": null,
      "outputs": [
        {
          "output_type": "stream",
          "name": "stdout",
          "text": [
            "How many numbers: 6\n",
            "Enter number : 12\n",
            "Enter number : 14\n",
            "Enter number : 21\n",
            "Enter number : 15\n",
            "Enter number : 25\n",
            "Enter number : 28\n",
            "Average of  6  numbers is : 19.166666666666668\n"
          ]
        }
      ]
    },
    {
      "cell_type": "code",
      "source": [
        "#Q12) Python Program to calculate factorial using iterative method.\n",
        "\n",
        "num = int(input('enter any number '))\n",
        "factorial = 1\n",
        "\n",
        "if num < 0:\n",
        "   print(\"Sorry, factorial does not exist for negative numbers\")\n",
        "elif num == 0:\n",
        "   print(\"The factorial of 0 is 1\")\n",
        "else:\n",
        "   for i in range(1,num + 1):\n",
        "       factorial = factorial*i\n",
        "   print(\"The factorial of\",num,\"is\",factorial)"
      ],
      "metadata": {
        "id": "VrxEN7vN0A3O",
        "colab": {
          "base_uri": "https://localhost:8080/"
        },
        "outputId": "fc19702c-5e26-4e4c-baf3-d80b52c854b1"
      },
      "execution_count": null,
      "outputs": [
        {
          "output_type": "stream",
          "name": "stdout",
          "text": [
            "enter any number 6\n",
            "The factorial of 6 is 720\n"
          ]
        }
      ]
    },
    {
      "cell_type": "code",
      "source": [
        "#Q13) Python Program to calculate factorial.\n",
        "\n",
        "num = int(input('enter any number '))\n",
        "factorial = 1\n",
        "\n",
        "if num < 0:\n",
        "   print(\"Sorry, factorial does not exist for negative numbers\")\n",
        "elif num == 0:\n",
        "   print(\"The factorial of 0 is 1\")\n",
        "else:\n",
        "   for i in range(1,num + 1):\n",
        "       factorial = factorial*i\n",
        "   print(\"The factorial of\",num,\"is\",factorial)\n"
      ],
      "metadata": {
        "id": "frljckol0Evm",
        "colab": {
          "base_uri": "https://localhost:8080/"
        },
        "outputId": "4ec507a4-e108-4c5b-c085-393fe9c02f2c"
      },
      "execution_count": null,
      "outputs": [
        {
          "output_type": "stream",
          "name": "stdout",
          "text": [
            "enter any number 6\n",
            "The factorial of 6 is 720\n"
          ]
        }
      ]
    },
    {
      "cell_type": "code",
      "source": [
        "#Q14) Python Program to check a given number is even or odd.\n",
        "\n",
        "num = int(input(\"enter any number:\"))\n",
        "if (num %2==0):\n",
        "  print('number is even')\n",
        "else:\n",
        "  print('number is odd')\n"
      ],
      "metadata": {
        "id": "ZFxzSvtY0H0u",
        "colab": {
          "base_uri": "https://localhost:8080/"
        },
        "outputId": "905f4ec4-0b21-469d-e11c-0a36d85b75fa"
      },
      "execution_count": null,
      "outputs": [
        {
          "output_type": "stream",
          "name": "stdout",
          "text": [
            "enter any number:8\n",
            "number is even\n"
          ]
        }
      ]
    },
    {
      "cell_type": "code",
      "source": [
        "#Q15) Python program to print first n Prime Number.\n",
        "\n",
        "\n",
        "numr=int(input(\"Enter range:\"))\n",
        "\n",
        "print(\"Prime numbers:\",end=' ')\n",
        "\n",
        "for n in range(1,numr):\n",
        "\n",
        "    for i in range(2,n):\n",
        "\n",
        "        if(n%i==0):\n",
        "\n",
        "            break\n",
        "\n",
        "    else:\n",
        "\n",
        "        print(n,end=' ')\n"
      ],
      "metadata": {
        "id": "cb3PIw7f0UYu",
        "colab": {
          "base_uri": "https://localhost:8080/"
        },
        "outputId": "652333b1-d3a4-45f0-9c83-a3114f602ab1"
      },
      "execution_count": 2,
      "outputs": [
        {
          "output_type": "stream",
          "name": "stdout",
          "text": [
            "Enter range:20\n",
            "Prime numbers: 1 2 3 5 7 11 13 17 19 "
          ]
        }
      ]
    },
    {
      "cell_type": "code",
      "source": [
        "#Q16) Python Program to print Prime Number in a given range.\n",
        "\n",
        "min = int(input(\"Enter the min : \"))\n",
        "max = int(input(\"Enter the max : \"))\n",
        "for n in range(min,max + 1):\n",
        "   if n > 1:\n",
        "       for i in range(2,n):\n",
        "           if (n % i) == 0:\n",
        "               break\n",
        "       else:\n",
        "           print(n)\n",
        "\n"
      ],
      "metadata": {
        "id": "bEq0COhD0XzG",
        "colab": {
          "base_uri": "https://localhost:8080/"
        },
        "outputId": "0163544b-e3c2-4e4b-aa7b-99bcb963eb6f"
      },
      "execution_count": null,
      "outputs": [
        {
          "output_type": "stream",
          "name": "stdout",
          "text": [
            "Enter the min : 1\n",
            "Enter the max : 18\n",
            "2\n",
            "3\n",
            "5\n",
            "7\n",
            "11\n",
            "13\n",
            "17\n"
          ]
        }
      ]
    },
    {
      "cell_type": "code",
      "source": [
        "#Q17) Python Program to find Smallest number among three.\n",
        "\n",
        "a = int(input('Enter first number  : '))\n",
        "b = int(input('Enter second number : '))\n",
        "c = int(input('Enter third number  : '))\n",
        "\n",
        "smallest = 0\n",
        "\n",
        "if a < b and a < c :\n",
        "    smallest = a\n",
        "if b < a and b < c :\n",
        "    smallest = b\n",
        "if c < a and c < b :\n",
        "    smallest = c\n",
        "\n",
        "print(smallest, \"is the smallest of three numbers.\")\n"
      ],
      "metadata": {
        "id": "UwyhdYDH0b32",
        "colab": {
          "base_uri": "https://localhost:8080/"
        },
        "outputId": "d9969ee3-029e-4a77-bd7b-13c41cbbaf37"
      },
      "execution_count": null,
      "outputs": [
        {
          "output_type": "stream",
          "name": "stdout",
          "text": [
            "Enter first number  : 11\n",
            "Enter second number : 13\n",
            "Enter third number  : 17\n",
            "11 is the smallest of three numbers.\n"
          ]
        }
      ]
    },
    {
      "cell_type": "code",
      "source": [
        "#Q18) Python program to calculate the power using the POW method.\n",
        "\n",
        "import math\n",
        "print(\"power result=\", math.pow(2,5))\n",
        "\n"
      ],
      "metadata": {
        "id": "DNq5nTa90kB2",
        "colab": {
          "base_uri": "https://localhost:8080/"
        },
        "outputId": "74116490-2878-4b9d-ff46-9692f7ed7b36"
      },
      "execution_count": null,
      "outputs": [
        {
          "output_type": "stream",
          "name": "stdout",
          "text": [
            "power result= 32.0\n"
          ]
        }
      ]
    },
    {
      "cell_type": "code",
      "source": [
        "#Q19) Python Program to calculate the square of a given number.\n",
        "\n",
        "num = int(input(\"enter any number\"))\n",
        "print(num**2)\n"
      ],
      "metadata": {
        "id": "8_qUcAI90pq-",
        "colab": {
          "base_uri": "https://localhost:8080/"
        },
        "outputId": "51201ea1-d1c0-4a76-9247-77fdb72508aa"
      },
      "execution_count": null,
      "outputs": [
        {
          "output_type": "stream",
          "name": "stdout",
          "text": [
            "enter any number6\n",
            "36\n"
          ]
        }
      ]
    },
    {
      "cell_type": "code",
      "source": [
        "#Q20) Python Program to calculate the cube of a given number.\n",
        "\n",
        "num = int(input(\"enter any number\"))\n",
        "print(num**3)"
      ],
      "metadata": {
        "id": "vT5dQ5jb0zfW",
        "colab": {
          "base_uri": "https://localhost:8080/"
        },
        "outputId": "95cdb1a4-0988-4ecf-8f46-e572e506acf7"
      },
      "execution_count": null,
      "outputs": [
        {
          "output_type": "stream",
          "name": "stdout",
          "text": [
            "enter any number5\n",
            "125\n"
          ]
        }
      ]
    },
    {
      "cell_type": "code",
      "source": [
        "#Q21) Python Program to calculate the square root of a given number.\n",
        "\n",
        "print(\"Enter a Number: \")\n",
        "num = int(input())\n",
        "\n",
        "squareroot = num ** 0.5\n",
        "\n",
        "print(\"Square Root =\", squareroot)\n"
      ],
      "metadata": {
        "id": "ESL7aaDw02-m",
        "colab": {
          "base_uri": "https://localhost:8080/"
        },
        "outputId": "8aaaefb5-2db5-4e67-d907-9880dfdc0182"
      },
      "execution_count": null,
      "outputs": [
        {
          "output_type": "stream",
          "name": "stdout",
          "text": [
            "Enter a Number: \n",
            "16\n",
            "Square Root = 4.0\n"
          ]
        }
      ]
    },
    {
      "cell_type": "code",
      "source": [
        "#Q22) Python Program to Convert Decimal Number into Binary.\n",
        "\n",
        "# decimal number\n",
        "number = int(input(\"Enter any decimal number: \"))\n",
        "\n",
        "# print equivalent binary number\n",
        "print(\"Equivalent Binary Number: \", bin(number))\n"
      ],
      "metadata": {
        "id": "sFrsZwjs08iW",
        "colab": {
          "base_uri": "https://localhost:8080/"
        },
        "outputId": "7683032f-20ad-48bd-b09a-cb665fb07ebd"
      },
      "execution_count": null,
      "outputs": [
        {
          "output_type": "stream",
          "name": "stdout",
          "text": [
            "Enter any decimal number: 12\n",
            "Equivalent Binary Number:  0b1100\n"
          ]
        }
      ]
    },
    {
      "cell_type": "code",
      "source": [
        "#Q23) Python Program to convert Decimal number to Octal number.\n",
        "\n",
        "# decimal number\n",
        "number = int(input(\"Enter any decimal number: \"))\n",
        "\n",
        "# print equivalent Octal number\n",
        "print(\"Equivalent Octal Number: \",oct(number))\n",
        "\n"
      ],
      "metadata": {
        "id": "zPkX4pby1CSe",
        "colab": {
          "base_uri": "https://localhost:8080/"
        },
        "outputId": "68f7ed1f-0cef-4b0f-916e-240d59f85491"
      },
      "execution_count": null,
      "outputs": [
        {
          "output_type": "stream",
          "name": "stdout",
          "text": [
            "Enter any decimal number: 10\n",
            "Equivalent Octal Number:  0o12\n"
          ]
        }
      ]
    },
    {
      "cell_type": "code",
      "source": [
        "#Q24) Python Program to check the given year is a leap year or not.\n",
        "\n",
        "# User enters the year\n",
        "\n",
        "import calendar\n",
        "year = int(input('enter year:'))\n",
        "if calendar.isleap(year):\n",
        "  print(\"Leap Year\")\n",
        "else:\n",
        "  print(\"Not a Leap Year\")\n"
      ],
      "metadata": {
        "id": "4uv88kTb1FqG",
        "colab": {
          "base_uri": "https://localhost:8080/"
        },
        "outputId": "111ec381-be07-4991-9bfb-01a72935bece"
      },
      "execution_count": null,
      "outputs": [
        {
          "output_type": "stream",
          "name": "stdout",
          "text": [
            "enter year:2012\n",
            "Leap Year\n"
          ]
        }
      ]
    },
    {
      "cell_type": "code",
      "source": [
        "#Q25) Python Program to convert Celsius to Fahrenheit.\n",
        "\n",
        "print(\"Enter Temperature in Celsius: \")\n",
        "cel = float(input())\n",
        "\n",
        "fah = (cel*1.8)+32\n",
        "print(\"Equivalent Value in Fahrenheit = \", fah)\n"
      ],
      "metadata": {
        "id": "bZ9tY9u21Iwm",
        "colab": {
          "base_uri": "https://localhost:8080/"
        },
        "outputId": "365ad74b-76c1-4d1f-ab64-b2354eaa343f"
      },
      "execution_count": null,
      "outputs": [
        {
          "output_type": "stream",
          "name": "stdout",
          "text": [
            "Enter Temperature in Celsius: \n",
            "38\n",
            "Equivalent Value in Fahrenheit =  100.4\n"
          ]
        }
      ]
    },
    {
      "cell_type": "code",
      "source": [
        "#Q26) Python Program to convert Fahrenheit to Celsius.\n",
        "\n",
        "temperature = float(input(\"Please enter temperature in fahrenheit:\"))\n",
        "celsius = (temperature - 32) * 5 / 9\n",
        "print(\"Temperature in celsius: \" , celsius)\n"
      ],
      "metadata": {
        "id": "j3pJeenZ1L_2",
        "colab": {
          "base_uri": "https://localhost:8080/"
        },
        "outputId": "a7bc289d-b783-4b65-861a-95de1eaa023c"
      },
      "execution_count": null,
      "outputs": [
        {
          "output_type": "stream",
          "name": "stdout",
          "text": [
            "Please enter temperature in fahrenheit:44\n",
            "Temperature in celsius:  6.666666666666667\n"
          ]
        }
      ]
    }
  ]
}